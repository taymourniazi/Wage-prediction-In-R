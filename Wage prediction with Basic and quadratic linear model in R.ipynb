{
 "cells": [
  {
   "cell_type": "code",
   "execution_count": 5,
   "metadata": {},
   "outputs": [],
   "source": [
    "# Uploading data\n",
    "dataset = read.csv(\"wageit.csv\")"
   ]
  },
  {
   "cell_type": "code",
   "execution_count": 6,
   "metadata": {},
   "outputs": [
    {
     "data": {
      "text/html": [
       "<table>\n",
       "<thead><tr><th scope=col>female</th><th scope=col>cg</th><th scope=col>sc</th><th scope=col>hsg</th><th scope=col>mw</th><th scope=col>so</th><th scope=col>we</th><th scope=col>ne</th><th scope=col>exp1</th><th scope=col>exp2</th><th scope=col>exp3</th><th scope=col>wage</th></tr></thead>\n",
       "<tbody>\n",
       "\t<tr><td>0        </td><td>0        </td><td>0        </td><td>1        </td><td>0        </td><td>0        </td><td>0        </td><td>1        </td><td>33.0     </td><td>10.8900  </td><td>35.937000</td><td>11.659091</td></tr>\n",
       "\t<tr><td>0        </td><td>1        </td><td>0        </td><td>0        </td><td>0        </td><td>0        </td><td>0        </td><td>1        </td><td>27.0     </td><td> 7.2900  </td><td>19.683000</td><td>12.825000</td></tr>\n",
       "\t<tr><td>0        </td><td>0        </td><td>1        </td><td>0        </td><td>0        </td><td>0        </td><td>0        </td><td>1        </td><td>13.0     </td><td> 1.6900  </td><td> 2.197000</td><td> 5.777027</td></tr>\n",
       "\t<tr><td>0        </td><td>1        </td><td>0        </td><td>0        </td><td>0        </td><td>0        </td><td>0        </td><td>1        </td><td> 2.0     </td><td> 0.0400  </td><td> 0.008000</td><td>12.468750</td></tr>\n",
       "\t<tr><td>1        </td><td>1        </td><td>0        </td><td>0        </td><td>0        </td><td>0        </td><td>0        </td><td>1        </td><td>15.0     </td><td> 2.2500  </td><td> 3.375000</td><td>18.525000</td></tr>\n",
       "\t<tr><td>0        </td><td>0        </td><td>1        </td><td>0        </td><td>0        </td><td>0        </td><td>0        </td><td>1        </td><td> 6.5     </td><td> 0.4225  </td><td> 0.274625</td><td>11.400000</td></tr>\n",
       "\t<tr><td>1        </td><td>0        </td><td>1        </td><td>0        </td><td>0        </td><td>0        </td><td>0        </td><td>1        </td><td> 6.0     </td><td> 0.3600  </td><td> 0.216000</td><td> 7.775199</td></tr>\n",
       "\t<tr><td>0        </td><td>0        </td><td>0        </td><td>1        </td><td>0        </td><td>0        </td><td>0        </td><td>1        </td><td>25.0     </td><td> 6.2500  </td><td>15.625000</td><td>16.031250</td></tr>\n",
       "\t<tr><td>0        </td><td>0        </td><td>0        </td><td>1        </td><td>0        </td><td>0        </td><td>0        </td><td>1        </td><td>14.0     </td><td> 1.9600  </td><td> 2.744000</td><td> 9.750000</td></tr>\n",
       "\t<tr><td>0        </td><td>0        </td><td>1        </td><td>0        </td><td>0        </td><td>0        </td><td>0        </td><td>1        </td><td>26.0     </td><td> 6.7600  </td><td>17.576000</td><td> 5.455714</td></tr>\n",
       "</tbody>\n",
       "</table>\n"
      ],
      "text/latex": [
       "\\begin{tabular}{r|llllllllllll}\n",
       " female & cg & sc & hsg & mw & so & we & ne & exp1 & exp2 & exp3 & wage\\\\\n",
       "\\hline\n",
       "\t 0         & 0         & 0         & 1         & 0         & 0         & 0         & 1         & 33.0      & 10.8900   & 35.937000 & 11.659091\\\\\n",
       "\t 0         & 1         & 0         & 0         & 0         & 0         & 0         & 1         & 27.0      &  7.2900   & 19.683000 & 12.825000\\\\\n",
       "\t 0         & 0         & 1         & 0         & 0         & 0         & 0         & 1         & 13.0      &  1.6900   &  2.197000 &  5.777027\\\\\n",
       "\t 0         & 1         & 0         & 0         & 0         & 0         & 0         & 1         &  2.0      &  0.0400   &  0.008000 & 12.468750\\\\\n",
       "\t 1         & 1         & 0         & 0         & 0         & 0         & 0         & 1         & 15.0      &  2.2500   &  3.375000 & 18.525000\\\\\n",
       "\t 0         & 0         & 1         & 0         & 0         & 0         & 0         & 1         &  6.5      &  0.4225   &  0.274625 & 11.400000\\\\\n",
       "\t 1         & 0         & 1         & 0         & 0         & 0         & 0         & 1         &  6.0      &  0.3600   &  0.216000 &  7.775199\\\\\n",
       "\t 0         & 0         & 0         & 1         & 0         & 0         & 0         & 1         & 25.0      &  6.2500   & 15.625000 & 16.031250\\\\\n",
       "\t 0         & 0         & 0         & 1         & 0         & 0         & 0         & 1         & 14.0      &  1.9600   &  2.744000 &  9.750000\\\\\n",
       "\t 0         & 0         & 1         & 0         & 0         & 0         & 0         & 1         & 26.0      &  6.7600   & 17.576000 &  5.455714\\\\\n",
       "\\end{tabular}\n"
      ],
      "text/markdown": [
       "\n",
       "female | cg | sc | hsg | mw | so | we | ne | exp1 | exp2 | exp3 | wage | \n",
       "|---|---|---|---|---|---|---|---|---|---|\n",
       "| 0         | 0         | 0         | 1         | 0         | 0         | 0         | 1         | 33.0      | 10.8900   | 35.937000 | 11.659091 | \n",
       "| 0         | 1         | 0         | 0         | 0         | 0         | 0         | 1         | 27.0      |  7.2900   | 19.683000 | 12.825000 | \n",
       "| 0         | 0         | 1         | 0         | 0         | 0         | 0         | 1         | 13.0      |  1.6900   |  2.197000 |  5.777027 | \n",
       "| 0         | 1         | 0         | 0         | 0         | 0         | 0         | 1         |  2.0      |  0.0400   |  0.008000 | 12.468750 | \n",
       "| 1         | 1         | 0         | 0         | 0         | 0         | 0         | 1         | 15.0      |  2.2500   |  3.375000 | 18.525000 | \n",
       "| 0         | 0         | 1         | 0         | 0         | 0         | 0         | 1         |  6.5      |  0.4225   |  0.274625 | 11.400000 | \n",
       "| 1         | 0         | 1         | 0         | 0         | 0         | 0         | 1         |  6.0      |  0.3600   |  0.216000 |  7.775199 | \n",
       "| 0         | 0         | 0         | 1         | 0         | 0         | 0         | 1         | 25.0      |  6.2500   | 15.625000 | 16.031250 | \n",
       "| 0         | 0         | 0         | 1         | 0         | 0         | 0         | 1         | 14.0      |  1.9600   |  2.744000 |  9.750000 | \n",
       "| 0         | 0         | 1         | 0         | 0         | 0         | 0         | 1         | 26.0      |  6.7600   | 17.576000 |  5.455714 | \n",
       "\n",
       "\n"
      ],
      "text/plain": [
       "   female cg sc hsg mw so we ne exp1 exp2    exp3      wage     \n",
       "1  0      0  0  1   0  0  0  1  33.0 10.8900 35.937000 11.659091\n",
       "2  0      1  0  0   0  0  0  1  27.0  7.2900 19.683000 12.825000\n",
       "3  0      0  1  0   0  0  0  1  13.0  1.6900  2.197000  5.777027\n",
       "4  0      1  0  0   0  0  0  1   2.0  0.0400  0.008000 12.468750\n",
       "5  1      1  0  0   0  0  0  1  15.0  2.2500  3.375000 18.525000\n",
       "6  0      0  1  0   0  0  0  1   6.5  0.4225  0.274625 11.400000\n",
       "7  1      0  1  0   0  0  0  1   6.0  0.3600  0.216000  7.775199\n",
       "8  0      0  0  1   0  0  0  1  25.0  6.2500 15.625000 16.031250\n",
       "9  0      0  0  1   0  0  0  1  14.0  1.9600  2.744000  9.750000\n",
       "10 0      0  1  0   0  0  0  1  26.0  6.7600 17.576000  5.455714"
      ]
     },
     "metadata": {},
     "output_type": "display_data"
    }
   ],
   "source": [
    "head(dataset,10)"
   ]
  },
  {
   "cell_type": "code",
   "execution_count": 7,
   "metadata": {
    "collapsed": true
   },
   "outputs": [],
   "source": [
    "# getting mean for each variable(2 here is to take column mean)\n",
    "variable_average = as.matrix(apply(dataset, 2, mean))\n",
    "colnames(variable_average) = c(\"Mean/Average\")"
   ]
  },
  {
   "cell_type": "code",
   "execution_count": 8,
   "metadata": {},
   "outputs": [
    {
     "name": "stdout",
     "output_type": "stream",
     "text": [
      "       Mean/Average\n",
      "female    0.4179922\n",
      "cg        0.3762712\n",
      "sc        0.3238592\n",
      "hsg       0.2998696\n",
      "mw        0.2876141\n",
      "so        0.2435463\n",
      "we        0.2117340\n",
      "ne        0.2571056\n",
      "exp1     13.3531943\n",
      "exp2      2.5292666\n",
      "exp3      5.8121030\n",
      "wage     15.5333559\n"
     ]
    }
   ],
   "source": [
    "print(variable_average)"
   ]
  },
  {
   "cell_type": "code",
   "execution_count": 9,
   "metadata": {
    "collapsed": true
   },
   "outputs": [],
   "source": [
    "# Compute Linear Regression Model \n",
    "regressor1 =  wage ~ female + sc+ cg+ mw + so + we + exp1 + exp2 + exp3"
   ]
  },
  {
   "cell_type": "code",
   "execution_count": 10,
   "metadata": {
    "collapsed": true
   },
   "outputs": [],
   "source": [
    "# Compute Linear Model and  MSE and R-Squared\n",
    "full.lm1 = lm(regressor1, data=dataset)\n",
    "lm1 = summary(full.lm1)\n",
    "R2.1 = lm1$r.squared\n",
    "R2.adj1 = lm1$adj.r.squared\n",
    "n1 =  length(lm1$res)\n",
    "p1  = lm1$df[1]\n",
    "MSE.adj1  = (n1/(n1-p1))*mean(lm1$res^2)"
   ]
  },
  {
   "cell_type": "code",
   "execution_count": 11,
   "metadata": {
    "collapsed": true
   },
   "outputs": [],
   "source": [
    "# Compute Linear Regression Model (with quadratic specification)\n",
    "regressor2 = wage ~  female + (sc+ cg+ mw + so + we + exp1 + exp2 + exp3)^2"
   ]
  },
  {
   "cell_type": "code",
   "execution_count": 12,
   "metadata": {
    "collapsed": true
   },
   "outputs": [],
   "source": [
    "# Compute Linear Model and  MSE and R-Squared (with quadratic specification)\n",
    "full.lmQ = lm(regressor2, data=dataset)\n",
    "lmQ = summary(full.lmQ)\n",
    "R2.2  = lmQ$r.squared\n",
    "R2.adj2 = lmQ$adj.r.squared\n",
    "n2  = length(lmQ$res)\n",
    "p2  = lmQ$df[1]\n",
    "MSE.adj2  = (n2/(n2-p2))*mean(lmQ$res^2)"
   ]
  },
  {
   "cell_type": "code",
   "execution_count": 13,
   "metadata": {
    "collapsed": true
   },
   "outputs": [],
   "source": [
    "# Summary Stat for linear and quadratic specifications\n",
    "table1     = matrix(0, 2, 4)\n",
    "table1[1,] = c(p1, R2.1, R2.adj1, MSE.adj1)\n",
    "table1[2,] = c(p2, R2.2, R2.adj2, MSE.adj2)  \n",
    "\n",
    "# Show Regresssion Results\n",
    "colnames(table1) = c(\"p\", \"R^2\", \"R^2 adj\", \"MSE adj\")\n",
    "rownames(table1) = c(\"basic reg\", \"flex reg\")"
   ]
  },
  {
   "cell_type": "code",
   "execution_count": 14,
   "metadata": {},
   "outputs": [
    {
     "name": "stdout",
     "output_type": "stream",
     "text": [
      "           p       R^2    R^2 adj  MSE adj\n",
      "basic reg 10 0.0954880 0.09335974 165.6802\n",
      "flex reg  33 0.1039728 0.09643130 165.1189\n"
     ]
    }
   ],
   "source": [
    "print(table1)"
   ]
  },
  {
   "cell_type": "markdown",
   "metadata": {},
   "source": [
    "# Linear and Quadratic specifications with Sample Splitting"
   ]
  },
  {
   "cell_type": "code",
   "execution_count": 15,
   "metadata": {
    "collapsed": true
   },
   "outputs": [],
   "source": [
    "# set random number generator\n",
    "set.seed(123)"
   ]
  },
  {
   "cell_type": "code",
   "execution_count": 16,
   "metadata": {
    "collapsed": true
   },
   "outputs": [],
   "source": [
    "# Split dataset into training and test sample(50/50 Ratio)\n",
    "train = sample(1:nrow(dataset), nrow(dataset)/2)"
   ]
  },
  {
   "cell_type": "code",
   "execution_count": 17,
   "metadata": {
    "collapsed": true
   },
   "outputs": [],
   "source": [
    "# Compute linear specification and compute MSE and R^2 for the test sample\n",
    "full.lm1  = lm(regressor1, data=dataset[train,])\n",
    "yhat.lm1  = predict(full.lm1, newdata=dataset[-train,])\n",
    "y.test = dataset[-train,]$wage\n",
    "MSE.lm1  = summary(lm((y.test-yhat.lm1)^2~1))$coef[1]\n",
    "R2.lm1 = 1- MSE.lm1/var(y.test)"
   ]
  },
  {
   "cell_type": "code",
   "execution_count": 18,
   "metadata": {
    "collapsed": true
   },
   "outputs": [],
   "source": [
    "# Split dataset into training and test sample\n",
    "train = sample(1:nrow(dataset), nrow(dataset)/2)"
   ]
  },
  {
   "cell_type": "code",
   "execution_count": 19,
   "metadata": {},
   "outputs": [
    {
     "name": "stderr",
     "output_type": "stream",
     "text": [
      "Warning message in predict.lm(full.lmQ, newdata = dataset[-train, ]):\n",
      "\"prediction from a rank-deficient fit may be misleading\""
     ]
    }
   ],
   "source": [
    "# run quadratic specification and compute MSE and R^2 for the test sample\n",
    "full.lmQ  = lm(regressor2, data=dataset[train,])\n",
    "yhat.lmQ  = predict(full.lmQ, newdata=dataset[-train,])\t\n",
    "y.test = dataset[-train,]$wage\n",
    "MSE.lmQ = summary(lm((y.test-yhat.lmQ)^2~1))$coef[1]\n",
    "R2.lmQ  = 1- MSE.lmQ/var(y.test)"
   ]
  },
  {
   "cell_type": "code",
   "execution_count": 20,
   "metadata": {
    "collapsed": true
   },
   "outputs": [],
   "source": [
    "# Create result table\n",
    "table2      = matrix(0, 2, 3)\n",
    "table2[1,]  = c(p1, R2.lm1, MSE.lm1)\n",
    "table2[2,]  = c(p2, R2.lmQ, MSE.lmQ)\n",
    "\n",
    "# Give Columns and Row Names\n",
    "colnames(table2)  = c(\"p \", \"R2 test\", \"MSE test\")\n",
    "rownames(table2)  = c(\"basic reg\", \"flex reg\")"
   ]
  },
  {
   "cell_type": "code",
   "execution_count": 22,
   "metadata": {
    "scrolled": true
   },
   "outputs": [
    {
     "name": "stdout",
     "output_type": "stream",
     "text": [
      "           p     R^2 R^2 adj MSE adj\n",
      "basic reg 10 0.09549 0.09336   165.7\n",
      "flex reg  33 0.10397 0.09643   165.1\n",
      "          p  R2 test MSE test\n",
      "basic reg 10 0.08403    129.2\n",
      "flex reg  33 0.11824    118.7\n"
     ]
    }
   ],
   "source": [
    "# Show Results\n",
    "print(table1,digits=4)\n",
    "print(table2,digits=4)"
   ]
  },
  {
   "cell_type": "code",
   "execution_count": null,
   "metadata": {
    "collapsed": true
   },
   "outputs": [],
   "source": []
  }
 ],
 "metadata": {
  "kernelspec": {
   "display_name": "R",
   "language": "R",
   "name": "ir"
  },
  "language_info": {
   "codemirror_mode": "r",
   "file_extension": ".r",
   "mimetype": "text/x-r-source",
   "name": "R",
   "pygments_lexer": "r",
   "version": "3.4.2"
  }
 },
 "nbformat": 4,
 "nbformat_minor": 2
}
